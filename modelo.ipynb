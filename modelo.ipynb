{
 "cells": [
  {
   "cell_type": "markdown",
   "metadata": {},
   "source": [
    "## Library Installation"
   ]
  },
  {
   "cell_type": "code",
   "execution_count": null,
   "metadata": {},
   "outputs": [],
   "source": [
    "%pip install pyspark\n",
    "%pip install mlflow\n",
    "%pip install tensorflow\n",
    "%pip install py4j"
   ]
  },
  {
   "cell_type": "markdown",
   "metadata": {},
   "source": [
    "###  Libraries importing"
   ]
  },
  {
   "cell_type": "code",
   "execution_count": 1,
   "metadata": {
    "application/vnd.databricks.v1+cell": {
     "cellMetadata": {
      "byteLimit": 2048000,
      "rowLimit": 10000
     },
     "inputWidgets": {},
     "nuid": "9243dedf-9452-46c4-aa9b-d7479c49d3cb",
     "showTitle": false,
     "tableResultSettingsMap": {},
     "title": ""
    }
   },
   "outputs": [],
   "source": [
    "\n",
    "#import DadosIO as Db\n",
    "#import Function as ut_f\n",
    "\n",
    "import yfinance as yf\n",
    "import numpy as np\n",
    "import pandas as pd\n",
    "import matplotlib.pyplot as plt\n",
    "from sklearn.preprocessing import MinMaxScaler\n",
    "from tensorflow.keras.models import Sequential\n",
    "from tensorflow.keras.layers import LSTM, Dense, Dropout\n",
    "import mlflow\n",
    "import mlflow.keras\n",
    "\n",
    "from pyspark.sql import SparkSession\n",
    "from pyspark.sql import functions as f\n",
    "from pyspark.sql.types import *\n",
    "from pyspark.sql.window import Window"
   ]
  },
  {
   "cell_type": "markdown",
   "metadata": {},
   "source": [
    "### Model Initialization"
   ]
  },
  {
   "cell_type": "code",
   "execution_count": 18,
   "metadata": {
    "application/vnd.databricks.v1+cell": {
     "cellMetadata": {
      "byteLimit": 2048000,
      "rowLimit": 10000
     },
     "inputWidgets": {},
     "nuid": "fd4bd43d-69cf-4a3b-b654-ab3bb958677c",
     "showTitle": false,
     "tableResultSettingsMap": {},
     "title": ""
    }
   },
   "outputs": [
    {
     "name": "stdout",
     "output_type": "stream",
     "text": [
      "[Row(index=1, Close='NaN'), Row(index=2, Close='102.16000366210938'), Row(index=3, Close='99.5')]\n"
     ]
    }
   ],
   "source": [
    "\n",
    "\n",
    "'''df = ut_f.filtro_ultimas_particoes(spark, \n",
    "                                           'sandbox.silver_acoes_disney', \n",
    "                                           nm_particao='dt_carga', \n",
    "                                           qtd_dias_filtro=3, \n",
    "                                           delta=True)\n",
    "'''\n",
    "\n",
    "# Initialize a Spark session\n",
    "spark = SparkSession.builder.appName(\"LSTMStockPredictor\").getOrCreate()\n",
    "\n",
    "df = pd.read_csv(\"out.csv\")  \n",
    "\n",
    "# Create a Spark DataFrame from Pandas DataFrame\n",
    "df = spark.createDataFrame(pd.DataFrame(df['Close'], columns=['Close']).reset_index())\n",
    "\n",
    "#check first row\n",
    "first_row = df.first()\n",
    "\n",
    "if type(first_row['Close']) == str:\n",
    "    df = df.filter(df.Close != first_row[\"Close\"])\n",
    "\n",
    "print(df.head(3))\n"
   ]
  },
  {
   "cell_type": "markdown",
   "metadata": {},
   "source": [
    "### Preprocess"
   ]
  },
  {
   "cell_type": "code",
   "execution_count": 19,
   "metadata": {},
   "outputs": [],
   "source": [
    "closing_prices = df.select(\"Close\").rdd.flatMap(lambda x: x).collect()\n",
    "\n",
    "closing_prices = [\n",
    "    float(price.lower()) for price in closing_prices if price.lower() not in [None, '', 'nan'] and not pd.isna(price)\n",
    "]\n",
    "\n",
    "closing_prices = np.array(closing_prices).reshape(-1, 1)\n",
    "\n",
    "# Normalize the data using MinMaxScaler\n",
    "scaler = MinMaxScaler(feature_range=(0, 1))\n",
    "scaled_data = scaler.fit_transform(closing_prices)\n",
    "\n",
    "# Create sequences for training\n",
    "sequence_length = 60\n",
    "X_train, y_train = [], []\n",
    "\n",
    "for i in range(sequence_length, len(scaled_data)):\n",
    "    X_train.append(scaled_data[i-sequence_length:i, 0])\n",
    "    y_train.append(scaled_data[i, 0])\n",
    "\n",
    "X_train, y_train = np.array(X_train), np.array(y_train)\n",
    "X_train = np.reshape(X_train, (X_train.shape[0], X_train.shape[1], 1))"
   ]
  },
  {
   "cell_type": "markdown",
   "metadata": {},
   "source": [
    "### Build the LSTM model"
   ]
  },
  {
   "cell_type": "code",
   "execution_count": 20,
   "metadata": {
    "application/vnd.databricks.v1+cell": {
     "cellMetadata": {
      "byteLimit": 2048000,
      "implicitDf": true,
      "rowLimit": 10000
     },
     "inputWidgets": {},
     "nuid": "f3a31c57-70a5-4fc0-9414-f4fdd8231b13",
     "showTitle": false,
     "tableResultSettingsMap": {},
     "title": ""
    }
   },
   "outputs": [
    {
     "name": "stderr",
     "output_type": "stream",
     "text": [
      "c:\\Users\\eng3\\Documents\\projetos\\fiap\\tech_challenger_4\\venv\\lib\\site-packages\\keras\\src\\layers\\rnn\\rnn.py:204: UserWarning: Do not pass an `input_shape`/`input_dim` argument to a layer. When using Sequential models, prefer using an `Input(shape)` object as the first layer in the model instead.\n",
      "  super().__init__(**kwargs)\n"
     ]
    },
    {
     "name": "stdout",
     "output_type": "stream",
     "text": [
      "Epoch 1/5\n",
      "\u001b[1m12/12\u001b[0m \u001b[32m━━━━━━━━━━━━━━━━━━━━\u001b[0m\u001b[37m\u001b[0m \u001b[1m15s\u001b[0m 106ms/step - loss: 0.0973\n",
      "Epoch 2/5\n",
      "\u001b[1m12/12\u001b[0m \u001b[32m━━━━━━━━━━━━━━━━━━━━\u001b[0m\u001b[37m\u001b[0m \u001b[1m2s\u001b[0m 122ms/step - loss: 0.0204\n",
      "Epoch 3/5\n",
      "\u001b[1m12/12\u001b[0m \u001b[32m━━━━━━━━━━━━━━━━━━━━\u001b[0m\u001b[37m\u001b[0m \u001b[1m2s\u001b[0m 150ms/step - loss: 0.0166\n",
      "Epoch 4/5\n",
      "\u001b[1m12/12\u001b[0m \u001b[32m━━━━━━━━━━━━━━━━━━━━\u001b[0m\u001b[37m\u001b[0m \u001b[1m2s\u001b[0m 123ms/step - loss: 0.0131\n",
      "Epoch 5/5\n",
      "\u001b[1m12/12\u001b[0m \u001b[32m━━━━━━━━━━━━━━━━━━━━\u001b[0m\u001b[37m\u001b[0m \u001b[1m2s\u001b[0m 134ms/step - loss: 0.0101\n"
     ]
    },
    {
     "name": "stderr",
     "output_type": "stream",
     "text": [
      "2024/11/09 14:37:35 WARNING mlflow.keras.save: You are saving a Keras model without specifying model signature.\n",
      "2024/11/09 14:38:19 WARNING mlflow.models.model: Model logged without a signature and input example. Please set `input_example` parameter when logging the model to auto infer the model signature.\n"
     ]
    },
    {
     "data": {
      "image/png": "[encoded data removed]",
      "text/plain": [
       "<Figure size 640x480 with 1 Axes>"
      ]
     },
     "metadata": {},
     "output_type": "display_data"
    }
   ],
   "source": [
    "# Build the LSTM model\n",
    "model = Sequential()\n",
    "model.add(LSTM(units=50, return_sequences=True, input_shape=(X_train.shape[1], 1)))\n",
    "model.add(Dropout(0.2))\n",
    "model.add(LSTM(units=50, return_sequences=False))\n",
    "model.add(Dropout(0.2))\n",
    "# Prediction of the next price\n",
    "model.add(Dense(units=1))  \n",
    "\n",
    "# Compile the model\n",
    "model.compile(optimizer='adam', loss='mean_squared_error')\n",
    "\n",
    "\n",
    "# Track parameters explicitly if desired\n",
    "experiment_params = {\n",
    "    \"sequence_length\": sequence_length,\n",
    "    \"units\": 50,\n",
    "    \"dropout_rate\": 0.2,\n",
    "    \"epochs\": 5,\n",
    "    \"batch_size\": 32\n",
    "}\n",
    "\n",
    "# Start MLflow experiment run\n",
    "with mlflow.start_run():\n",
    "    # Log custom parameters\n",
    "    for param, value in experiment_params.items():\n",
    "        mlflow.log_param(param, value)\n",
    "\n",
    "    # Train the model\n",
    "    history = model.fit(X_train, y_train, epochs=experiment_params[\"epochs\"], batch_size=experiment_params[\"batch_size\"])\n",
    "\n",
    "    # Log the trained model\n",
    "    mlflow.keras.log_model(model, \"lstm_model\")\n",
    "\n",
    "    # log custom metrics like final training loss\n",
    "    final_loss = history.history[\"loss\"][-1]\n",
    "    mlflow.log_metric(\"final_training_loss\", final_loss)\n",
    "\n",
    "    # Plot training loss and log it\n",
    "    import matplotlib.pyplot as plt\n",
    "    plt.plot(history.history[\"loss\"], label=\"Training Loss\")\n",
    "    plt.title(\"Training Loss Over Epochs\")\n",
    "    plt.xlabel(\"Epoch\")\n",
    "    plt.ylabel(\"Loss\")\n",
    "    plt.legend()\n",
    "    plt.savefig(\"training_loss_plot.png\")\n",
    "    mlflow.log_artifact(\"training_loss_plot.png\", \"training_loss_plot\")\n",
    "\n",
    "# Stop the Spark session\n",
    "spark.stop()\n"
   ]
  },
  {
   "cell_type": "markdown",
   "metadata": {},
   "source": [
    "### Obtaining evaluation criterias"
   ]
  },
  {
   "cell_type": "code",
   "execution_count": 21,
   "metadata": {},
   "outputs": [
    {
     "name": "stdout",
     "output_type": "stream",
     "text": [
      "\u001b[1m1/1\u001b[0m \u001b[32m━━━━━━━━━━━━━━━━━━━━\u001b[0m\u001b[37m\u001b[0m \u001b[1m2s\u001b[0m 2s/step\n",
      "MAE: 2.199912459762008, RMSE: 2.668047902963845, MAPE: 0.02071106062086207\n"
     ]
    }
   ],
   "source": [
    "from sklearn.metrics import mean_absolute_error, mean_squared_error, mean_absolute_percentage_error\n",
    "import numpy as np\n",
    "\n",
    "#Split the last 20% of data as a test set\n",
    "split = int(len(scaled_data) * 0.8)\n",
    "train_data, test_data = scaled_data[:split], scaled_data[split:]\n",
    "\n",
    "# Create test sequences\n",
    "X_test, y_test = [], []\n",
    "for i in range(sequence_length, len(test_data)):\n",
    "    X_test.append(test_data[i-sequence_length:i, 0])\n",
    "    y_test.append(test_data[i, 0])\n",
    "\n",
    "X_test, y_test = np.array(X_test), np.array(y_test)\n",
    "X_test = np.reshape(X_test, (X_test.shape[0], X_test.shape[1], 1))\n",
    "\n",
    "# Make predictions on the test set\n",
    "predicted_prices = model.predict(X_test)\n",
    "\n",
    "# Inverse transform to get predictions back to original price scale\n",
    "predicted_prices = scaler.inverse_transform(predicted_prices)\n",
    "y_test_actual = scaler.inverse_transform(y_test.reshape(-1, 1))\n",
    "\n",
    "# Calculate the metrics\n",
    "mae = mean_absolute_error(y_test_actual, predicted_prices)\n",
    "rmse = np.sqrt(mean_squared_error(y_test_actual, predicted_prices))\n",
    "mape = mean_absolute_percentage_error(y_test_actual, predicted_prices)\n",
    "\n",
    "# Log metrics in MLflow\n",
    "with mlflow.start_run():\n",
    "    mlflow.log_metric(\"MAE\", mae)\n",
    "    mlflow.log_metric(\"RMSE\", rmse)\n",
    "    mlflow.log_metric(\"MAPE\", mape)\n",
    "\n",
    "    print(f\"MAE: {mae}, RMSE: {rmse}, MAPE: {mape}\")\n"
   ]
  },
  {
   "cell_type": "markdown",
   "metadata": {},
   "source": [
    "### Export model to h5 format \n",
    "\n",
    "#### Only if the evaluation criteria are good enough"
   ]
  },
  {
   "cell_type": "code",
   "execution_count": 22,
   "metadata": {},
   "outputs": [
    {
     "name": "stderr",
     "output_type": "stream",
     "text": [
      "WARNING:absl:You are saving your model as an HDF5 file via `model.save()` or `keras.saving.save_model(model)`. This file format is considered legacy. We recommend using instead the native Keras format, e.g. `model.save('my_model.keras')` or `keras.saving.save_model(model, 'my_model.keras')`. \n"
     ]
    },
    {
     "name": "stdout",
     "output_type": "stream",
     "text": [
      "Model meets criteria and has been saved.\n"
     ]
    }
   ],
   "source": [
    "\n",
    "# threshold criteria\n",
    "mae_threshold = 4  \n",
    "rmse_threshold = 4\n",
    "\n",
    "# Save the model only if it meets the criteria\n",
    "if mae <= mae_threshold and rmse <= rmse_threshold:\n",
    "    model.save(\"lstm_stock_predictor.h5\")\n",
    "    print(\"Model meets criteria and has been saved.\")\n",
    "else:\n",
    "    print(\"Model does not meet criteria and was not saved.\")"
   ]
  }
 ],
 "metadata": {
  "application/vnd.databricks.v1+notebook": {
   "dashboards": [],
   "environmentMetadata": {
    "base_environment": "",
    "client": "1"
   },
   "language": "python",
   "notebookMetadata": {
    "mostRecentlyExecutedCommandWithImplicitDF": {
     "commandId": -1,
     "dataframes": [
      "_sqldf"
     ]
    },
    "pythonIndentUnit": 2
   },
   "notebookName": "modelo",
   "widgets": {}
  },
  "kernelspec": {
   "display_name": "venv",
   "language": "python",
   "name": "python3"
  },
  "language_info": {
   "codemirror_mode": {
    "name": "ipython",
    "version": 3
   },
   "file_extension": ".py",
   "mimetype": "text/x-python",
   "name": "python",
   "nbconvert_exporter": "python",
   "pygments_lexer": "ipython3",
   "version": "3.9.13"
  }
 },
 "nbformat": 4,
 "nbformat_minor": 0
}
