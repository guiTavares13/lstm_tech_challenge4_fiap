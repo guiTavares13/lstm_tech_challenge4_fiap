{
 "cells": [
  {
   "cell_type": "code",
   "execution_count": null,
   "metadata": {
    "vscode": {
     "languageId": "plaintext"
    }
   },
   "outputs": [],
   "source": [
    "\n",
    "import json\n",
    "import requests\n",
    "\n",
    "def run_job(job_id, token):\n",
    "    run_now_url = \"https://adb-4529457206932797.17.azuredatabricks.net/api/2.0/jobs/run-now\"\n",
    "\n",
    "    headers = {\n",
    "        \"Authorization\": f\"Bearer {token}\",\n",
    "        \"Content-Type\": \"application/json\"\n",
    "    }\n",
    "\n",
    "    payload = {\n",
    "        \"job_id\": job_id \n",
    "    }\n",
    "\n",
    "    response = requests.post(run_now_url, headers=headers, data=json.dumps(payload))\n",
    "\n",
    "    print(\"Response: \", response.json())\n",
    "\n",
    "job_id = int(dbutils.widgets.get(\"job_id\"))\n",
    "token = dbutils.secrets.get(scope=\"lake-sim-kv-dev\", key=\"databricks-token\")\n",
    "run_job(job_id, token)"
   ]
  }
 ],
 "metadata": {
  "language_info": {
   "name": "python"
  }
 },
 "nbformat": 4,
 "nbformat_minor": 2
}
